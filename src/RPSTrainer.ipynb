{
 "cells": [
  {
   "cell_type": "markdown",
   "metadata": {},
   "source": [
    "# Rock-Paper-Scissors"
   ]
  },
  {
   "cell_type": "code",
   "execution_count": 1,
   "metadata": {},
   "outputs": [],
   "source": [
    "%matplotlib inline"
   ]
  },
  {
   "cell_type": "markdown",
   "metadata": {},
   "source": [
    "## 2.4 Worked Example: Rock-Paper-Scissors\n",
    "The code below is a faithful Python re-implementation of the original Java version `RPSTrainer.java` as developed in section 2.4 of Neller's & Lanctot's lecture notes. This code can be run directly from `RPSTrainer0.py` in this repository.\n",
    "\n",
    "Note that the Python version has less code than the Java version, thanks to builtin ranges and `NumPy`'s vectorized operations such as `+=`, `/=` and `/` and builtin functions such as `sum`, `clip`, `repeat` and `zeros`. We have also leveraged `NumPy`'s `random.choice` to sample actions from a strategy."
   ]
  },
  {
   "cell_type": "code",
   "execution_count": 2,
   "metadata": {},
   "outputs": [
    {
     "name": "stdout",
     "output_type": "stream",
     "text": [
      "[2.48594242e-04 9.99751072e-01 3.33333333e-07]\n"
     ]
    }
   ],
   "source": [
    "# %load RPSTrainer0.py\n",
    "#          Copyright Rein Halbersma 2018.\n",
    "# Distributed under the Boost Software License, Version 1.0.\n",
    "#    (See accompanying file LICENSE_1_0.txt or copy at\n",
    "#          http://www.boost.org/LICENSE_1_0.txt)\n",
    "\n",
    "import numpy as np\n",
    "\n",
    "class RPSTrainer:\n",
    "    def __init__(self):\n",
    "        self.NUM_ACTIONS = 3\n",
    "        self.regretSum = np.zeros(self.NUM_ACTIONS)\n",
    "        self.strategySum = np.zeros(self.NUM_ACTIONS)\n",
    "        self.oppStrategy = [.4, .3, .3]\n",
    "    \n",
    "    def getStrategy(self):\n",
    "        strategy = self.regretSum.clip(min=0)\n",
    "        normalizingSum = np.sum(strategy)\n",
    "        if normalizingSum > 0:\n",
    "            strategy /= normalizingSum\n",
    "        else:\n",
    "            strategy = np.repeat(1 / self.NUM_ACTIONS, self.NUM_ACTIONS)\n",
    "        self.strategySum += strategy\n",
    "        return strategy\n",
    "    \n",
    "    def getAction(self, strategy):\n",
    "        return np.random.choice(len(strategy), p=strategy)\n",
    "    \n",
    "    def train(self, iterations):\n",
    "        actionUtility = np.zeros(self.NUM_ACTIONS)\n",
    "        \n",
    "        for i in range(iterations):\n",
    "            strategy = self.getStrategy()\n",
    "            myAction = self.getAction(strategy)\n",
    "            otherAction = self.getAction(self.oppStrategy)\n",
    "            \n",
    "            actionUtility[otherAction] = 0\n",
    "            actionUtility[0 if otherAction == self.NUM_ACTIONS - 1 else otherAction + 1] = 1\n",
    "            actionUtility[self.NUM_ACTIONS - 1 if otherAction == 0 else otherAction - 1] = -1\n",
    "            \n",
    "            for a in range(self.NUM_ACTIONS):\n",
    "                self.regretSum[a] += actionUtility[a] - actionUtility[myAction]\n",
    "    \n",
    "    def getAverageStrategy(self):\n",
    "        normalizingSum = np.sum(self.strategySum)\n",
    "        if normalizingSum > 0:\n",
    "            avgStrategy = self.strategySum / normalizingSum\n",
    "        else:\n",
    "            avgStrategy = np.repeat(1 / self.NUM_ACTIONS, self.NUM_ACTIONS)\n",
    "        return avgStrategy\n",
    "        \n",
    "def main():\n",
    "    trainer = RPSTrainer()\n",
    "    trainer.train(1000000)\n",
    "    print(trainer.getAverageStrategy())\n",
    "    \n",
    "if __name__ == \"__main__\":\n",
    "    main()\n"
   ]
  },
  {
   "cell_type": "markdown",
   "metadata": {},
   "source": [
    "Running this code shows that after training for 1 million iterations against an opponent playing Rock 40% of the time, the average strategy has converged to the best response of playing Paper 100% of the time."
   ]
  }
 ],
 "metadata": {
  "kernelspec": {
   "display_name": "Python 3",
   "language": "python",
   "name": "python3"
  },
  "language_info": {
   "codemirror_mode": {
    "name": "ipython",
    "version": 3
   },
   "file_extension": ".py",
   "mimetype": "text/x-python",
   "name": "python",
   "nbconvert_exporter": "python",
   "pygments_lexer": "ipython3",
   "version": "3.5.2"
  }
 },
 "nbformat": 4,
 "nbformat_minor": 2
}
